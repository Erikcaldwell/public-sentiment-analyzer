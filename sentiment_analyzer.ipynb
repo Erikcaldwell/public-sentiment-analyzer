{
 "cells": [
  {
   "cell_type": "code",
   "execution_count": 1,
   "metadata": {},
   "outputs": [],
   "source": [
    "# Import Dependencies\n",
    "import pandas as pd\n",
    "import tweepy\n",
    "import numpy as np\n",
    "\n",
    "from config import consumer_key, consumer_secret, access_token, access_token_secret\n",
    "from vaderSentiment.vaderSentiment import SentimentIntensityAnalyzer"
   ]
  },
  {
   "cell_type": "code",
   "execution_count": 2,
   "metadata": {},
   "outputs": [],
   "source": [
    "# Setup Tweepy API Authentication\n",
    "auth = tweepy.OAuthHandler(consumer_key, consumer_secret)\n",
    "auth.set_access_token(access_token, access_token_secret)\n",
    "api = tweepy.API(auth, parser=tweepy.parsers.JSONParser())\n",
    "\n",
    "def get_handles():\n",
    "    # Grabbing twitter handles to pass to analyzer\n",
    "    me = 'tjg_developer'\n",
    "\n",
    "    tweets = api.search(f'@{me} Analyze:')['statuses']\n",
    "\n",
    "    requests = tweets[0]['entities']['user_mentions']\n",
    "\n",
    "    handles = []\n",
    "    \n",
    "    # Collect all screen names in user_mentions that are not 'me'\n",
    "    for request in requests:\n",
    "        if request['screen_name'] != me:\n",
    "            handles.append('@' + request['screen_name'])\n",
    "        else:\n",
    "            pass\n",
    "    \n",
    "    return handles"
   ]
  },
  {
   "cell_type": "code",
   "execution_count": 3,
   "metadata": {},
   "outputs": [],
   "source": [
    "# Sentiment analyzer\n",
    "def analyzer():\n",
    "    handles = get_handles()\n",
    "    data = []\n",
    "    # Grab twitter handles and append the name and image to data\n",
    "    for handle in handles:\n",
    "        data_dict = {}\n",
    "        tweets = api.user_timeline(handle)\n",
    "        data_dict['Handle'] = handle\n",
    "        data_dict['Name'] = tweets[0]['user']['name']\n",
    "        data_dict['Image'] = tweets[0]['user']['profile_image_url_https'].replace('normal', '400x400')\n",
    "        data.append(data_dict)\n",
    "    \n",
    "    # Setup sentiment analyzer\n",
    "    analyzer = SentimentIntensityAnalyzer()\n",
    "    \n",
    "    # Grab tweets containing the user name of the twitter handle\n",
    "    for user in data:\n",
    "        compound_scores = []\n",
    "        tweets = api.search_users(user['Name'])\n",
    "        \n",
    "        # Run sentiment analysis on tweets and append the average\n",
    "        # compound sentiment score to data\n",
    "        for tweet in tweets:\n",
    "            try:\n",
    "                sent = analyzer.polarity_scores(tweet['status']['text'])\n",
    "                compound_scores.append(sent['compound'])\n",
    "            except KeyError:\n",
    "                pass\n",
    "        user['Score'] = np.mean(compound_scores)\n",
    "        \n",
    "    # Convert the list of dictionaries to a dataframe\n",
    "    data_df = pd.DataFrame(data)\n",
    "\n",
    "    # Sort the dataframe by Score in descending order\n",
    "    data_df_sorted = data_df.sort_values(by='Score', ascending=True)\n",
    "\n",
    "    # Convert the dataframe back to a list of dictionaries\n",
    "    data_ordered = data_df_sorted.to_dict('records')\n",
    "    \n",
    "    return data_ordered"
   ]
  },
  {
   "cell_type": "code",
   "execution_count": 4,
   "metadata": {},
   "outputs": [
    {
     "data": {
      "text/plain": [
       "[{'Handle': '@amyklobuchar',\n",
       "  'Image': 'https://pbs.twimg.com/profile_images/1059812997982511105/lgFAlE5t_400x400.jpg',\n",
       "  'Name': 'Amy Klobuchar',\n",
       "  'Score': 0.03587777777777776},\n",
       " {'Handle': '@johnthune',\n",
       "  'Image': 'https://pbs.twimg.com/profile_images/608673841032761344/qOLOQ8Dy_400x400.jpg',\n",
       "  'Name': 'John Thune',\n",
       "  'Score': 0.1315714285714286},\n",
       " {'Handle': '@BernieSanders',\n",
       "  'Image': 'https://pbs.twimg.com/profile_images/794596124686487552/kqpbolIc_400x400.jpg',\n",
       "  'Name': 'Bernie Sanders',\n",
       "  'Score': 0.15691}]"
      ]
     },
     "execution_count": 4,
     "metadata": {},
     "output_type": "execute_result"
    }
   ],
   "source": [
    "data = analyzer()\n",
    "data"
   ]
  },
  {
   "cell_type": "code",
   "execution_count": null,
   "metadata": {},
   "outputs": [],
   "source": []
  }
 ],
 "metadata": {
  "kernelspec": {
   "display_name": "Python [conda env:PythonData]",
   "language": "python",
   "name": "conda-env-PythonData-py"
  },
  "language_info": {
   "codemirror_mode": {
    "name": "ipython",
    "version": 3
   },
   "file_extension": ".py",
   "mimetype": "text/x-python",
   "name": "python",
   "nbconvert_exporter": "python",
   "pygments_lexer": "ipython3",
   "version": "3.6.5"
  }
 },
 "nbformat": 4,
 "nbformat_minor": 2
}
